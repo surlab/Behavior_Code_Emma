{
 "cells": [
  {
   "cell_type": "code",
   "execution_count": 10,
   "metadata": {},
   "outputs": [],
   "source": [
    "import nidaqmx\n",
    "import time\n",
    "from nidaqmx.constants import LineGrouping"
   ]
  },
  {
   "cell_type": "code",
   "execution_count": 27,
   "metadata": {},
   "outputs": [
    {
     "name": "stdout",
     "output_type": "stream",
     "text": [
      "Device Name: Dev1\n"
     ]
    }
   ],
   "source": [
    "#Verify NIDAQ path (card_id in cell below)\n",
    "\n",
    "import nidaqmx.system\n",
    "# List all connected devices\n",
    "system = nidaqmx.system.System.local()\n",
    "\n",
    "for device in system.devices:\n",
    "    print(f\"Device Name: {device.name}\")\n"
   ]
  },
  {
   "cell_type": "code",
   "execution_count": 31,
   "metadata": {},
   "outputs": [],
   "source": [
    "#option1: set up digital trigger\n",
    "#better for single pulse, simpler. but where is trigger mode referenced?\n",
    "card_id = 'Dev1'\n",
    "trigger_mode = 'out'\n",
    "\n",
    "# Create a task\n",
    "with nidaqmx.Task() as task:\n",
    "    # Add a digital output channel\n",
    "    task.do_channels.add_do_chan(f\"{card_id}/port0/line1\",name_to_assign_to_lines=\"2P3_Trigger\")\n",
    "    # Start the task\n",
    "    task.start()\n",
    "\n",
    "    # Start scan (send high signal)\n",
    "    task.write(True)  # Send a high signal (1)\n",
    "    \n",
    "    # Wait for 1 millisecond\n",
    "    time.sleep(0.001)\n",
    "    \n",
    "    # Send low signal\n",
    "    task.write(False)  # Send a low signal (0)\n",
    "\n",
    "    # Stop the task\n",
    "    task.stop()\n"
   ]
  },
  {
   "cell_type": "code",
   "execution_count": 28,
   "metadata": {},
   "outputs": [],
   "source": [
    "#option 2: set up digital trigger #both worked\n",
    "#potentially better for sending multiple pulses\n",
    "card = {\n",
    "    'trigger_mode': 'out',\n",
    "    'id': 'Dev1',\n",
    "    'name': 'nidaq',\n",
    "}\n",
    "\n",
    "if card['trigger_mode'] == 'out':\n",
    "    if 'dio' not in card:\n",
    "        # Create a digital output task\n",
    "        card['dio'] = nidaqmx.Task()\n",
    "        # Add a digital output channel to Port0/Line1 with proper LineGrouping\n",
    "        card['dio'].do_channels.add_do_chan(\n",
    "            'Dev1/port0/line1', \n",
    "            line_grouping=LineGrouping.CHAN_PER_LINE)\n",
    "\n",
    "# Start scan\n",
    "with card['dio'] as task:\n",
    "    # Write a digital high signal (1) as a boolean array\n",
    "    task.write([True], auto_start=True)\n",
    "\n",
    "    data_start_time = time.time()  # Record start time\n",
    "    time.sleep(0.001)  # Wait for 1 ms\n",
    "\n",
    "    # Write a digital low signal (0)\n",
    "    task.write([False], auto_start=True)\n"
   ]
  },
  {
   "cell_type": "markdown",
   "metadata": {},
   "source": [
    "### on atlas pc make sure to run \n",
    "\n",
    "conda install conda-forge::nidaqmx-python\n",
    "\n",
    "conda install conda-forge::python-decouple\n",
    "\n",
    "pip install hightime\n",
    "\n",
    "may need to install NI MAX app. \n",
    "\n",
    "### On 2P3: \n",
    "make sure to select start with input trigger AND to press start T-Series\n",
    "create a env style to save and import at the start of each session to maintain exactly the same params!! and importantly the image dimensions, frame rate, save type, location, etc. \n"
   ]
  },
  {
   "cell_type": "markdown",
   "metadata": {},
   "source": [
    "## AGHGHHHH\n",
    "### tips to troubleshoot send trigger \n",
    "\n",
    "Open NI MAX app. Or install it if not installed. Check 'Devices and Interfaces' dropdown. Check Name and run Self Tests. If it fails, soemthing else might be actively occupying the port. \n",
    "\n",
    "In my case, MATLAB was actively occupying the path bc the self-test did not fail after I closed MATLAB and this script properly sent trigger :)"
   ]
  }
 ],
 "metadata": {
  "kernelspec": {
   "display_name": "arduino_interface",
   "language": "python",
   "name": "python3"
  },
  "language_info": {
   "codemirror_mode": {
    "name": "ipython",
    "version": 3
   },
   "file_extension": ".py",
   "mimetype": "text/x-python",
   "name": "python",
   "nbconvert_exporter": "python",
   "pygments_lexer": "ipython3",
   "version": "3.12.3"
  }
 },
 "nbformat": 4,
 "nbformat_minor": 2
}
