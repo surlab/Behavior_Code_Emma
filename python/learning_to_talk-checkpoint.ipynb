{
 "cells": [
  {
   "cell_type": "markdown",
   "id": "81ad376e-32ea-4d4c-a5ac-15573db1e8a7",
   "metadata": {},
   "source": [
    "Any cell that should be run everytime will have * in the top comment/line\n",
    "\n",
    "near future upgrades :  \n",
    "**caffeinate based on operating system to prevent sleep!**  \n",
    "**implement limit of number of succesful licks (need to track licks first thooo**  \n",
    "**alert when done, make it easy to see how much time has passed/is left**  \n",
    " *move arduino to opposite side of the rig to enable camera placement on user side *  \n",
    "also i think we could make the lines specifically print around solenoid activated bc thats what i care about seeing real time (ie is it licking?)\n",
    "   \n",
    "resolved upgrade: buffered write to txt file (dont want to add delay if not needed    \n",
    "how do you determine what the buffer size should be and what are the units ?    \n",
    "  \n",
    "notes:   \n",
    "it actuaLLY matters if mouse is holding bar when behavior starts, so we need to start behvaior before the bar is placed  \n",
    "otherwise the bar touch sensor will not work until it slowly recalibrates itself   \n",
    "  \n",
    "\n",
    "tomorrow morning work on the damn camera system with atlas"
   ]
  },
  {
   "cell_type": "markdown",
   "id": "7e9aa3ce-9a12-44fd-82ed-f733473651f0",
   "metadata": {},
   "source": [
    "Press esc M to change cell to text (markdown)\n",
    "To stop cell, click outside of code section and press II quickly (not capital)   \n",
    "To keyboard interrupt (ie stop cell stop behavior) click the leftside bar but outside the cell  \n",
    "Press ii quickly"
   ]
  },
  {
   "cell_type": "code",
   "execution_count": 1,
   "id": "2e5b0449-c592-4a59-957e-01744df8f47c",
   "metadata": {},
   "outputs": [],
   "source": [
    "# * run at start of each session, clear all variables\n",
    "for var in list(globals().keys()):\n",
    "    if var not in ['__builtins__', '__name__', '__doc__', '__package__', '__loader__', '__spec__', '__annotations__']:\n",
    "        del globals()[var]"
   ]
  },
  {
   "cell_type": "code",
   "execution_count": 15,
   "id": "1ca37ee4-6366-43db-bdcd-9b3c6c212be5",
   "metadata": {},
   "outputs": [],
   "source": [
    "import serial\n",
    "import time \n",
    "from datetime import datetime\n",
    "import os\n",
    "import csv\n",
    "import pandas as pd\n",
    "from tkinter import Tk\n",
    "from tkinter.filedialog import askdirectory"
   ]
  },
  {
   "cell_type": "markdown",
   "id": "9e8401c7-dc20-459b-9f3c-62e36e213c62",
   "metadata": {},
   "source": [
    "(**mac**) To get port number type 'ls /dev/tty.*' in terminal"
   ]
  },
  {
   "cell_type": "code",
   "execution_count": 16,
   "id": "f90fe130-3142-49a4-b930-3adab179af35",
   "metadata": {},
   "outputs": [
    {
     "name": "stdout",
     "output_type": "stream",
     "text": [
      "Port: COM3, Path: USB VID:PID=2341:0043 SER=851303035383512002A0 LOCATION=1-1, Description: USB Serial Device (COM3)\n",
      "Port: COM1, Path: ACPI\\PNP0501\\0, Description: Communications Port (COM1)\n"
     ]
    }
   ],
   "source": [
    "# get port info, on pc port should just be something like COM3\n",
    "import serial.tools.list_ports\n",
    "ports = serial.tools.list_ports.comports()\n",
    "for port in ports:\n",
    "    print(f\"Port: {port.device}, Path: {port.hwid}, Description: {port.description}\")"
   ]
  },
  {
   "cell_type": "code",
   "execution_count": 19,
   "id": "f925953b-4dff-4f32-b876-4a38177cd203",
   "metadata": {
    "scrolled": true
   },
   "outputs": [
    {
     "name": "stdout",
     "output_type": "stream",
     "text": [
      "This is a windows system.\n",
      "Sleep mode disabled on Windows.\n"
     ]
    }
   ],
   "source": [
    "#* caffeine!!! run to prevent sleep / interruption of data collection\n",
    "import platform\n",
    "import subprocess\n",
    "import ctypes\n",
    "\n",
    "os_name = os.name\n",
    "if os_name ==\"nt\":\n",
    "    print(\"This is a windows system.\")\n",
    "   # Use ctypes to prevent sleep on Windows \n",
    "    ctypes.windll.kernel32.SetThreadExecutionState( \n",
    "        0x80000000 | 0x00000001 | 0x00000002 ) \n",
    "    print(\"Sleep mode disabled on Windows.\")\n",
    "elif os_name == \"posix\":\n",
    "    if platform.system() == \"Darwin\":\n",
    "        print(\"This is a macOS system.\")\n",
    "        caffeinate = subprocess.Popen(['caffeinate'])\n",
    "        print(\"Caffeinate activated on macOS.\")\n",
    "    else:\n",
    "        print(\"this is a Linux system.\")"
   ]
  },
  {
   "cell_type": "code",
   "execution_count": null,
   "id": "5e575247-bf4b-4e9b-93fd-fea458e12b8a",
   "metadata": {},
   "outputs": [],
   "source": [
    "# * run this cell to test behavior rig for run_time\n",
    "port = 'COM3'  # Replace with your Arduino's port\n",
    "baudrate = 115200  # make sure this matches the baud rate in the Arduino sketch (.ino file)\n",
    "run_time = 10*60 #sec\n",
    "#request user for identiying information\n",
    "animal_ID = input(\"Enter Animal ID: \")\n",
    "training_stage = input(\"Enter training stage: \")\n",
    "\n",
    "#open window to choose directory \n",
    "root = Tk()\n",
    "root.withdraw()  # Hide the main tkinter window\n",
    "save_directory = askdirectory(title=\"Select Directory to Save Data File\")\n",
    "data_filename = f\"{animal_ID}_{training_stage}_{datetime.now().strftime('%Y%m%d_%H%M%S')}.txt\"\n",
    "data_filepath = os.path.join(save_directory, data_filename)\n",
    "\n",
    "#initialize file to write to as 'file'\n",
    "with open(data_filepath, 'w') as file:\n",
    "    #initialize serial connection\n",
    "    ser = serial.Serial(port, baudrate, timeout=1)\n",
    "    time.sleep(2) \n",
    "    \n",
    "    #TRIGGER CAMERA, 2P HERE\n",
    "    \n",
    "    #send start command to Arduino\n",
    "    start_time = time.time() #use for duration based arduino script start/stop\n",
    "    ser.write(b'S') \n",
    "    behav_active = True\n",
    "    timestamp = datetime.now().strftime('%Y-%m-%d %H:%M:%S.%f')[:-3]\n",
    "    print(f'{timestamp} - Sent start command to Arduino.')\n",
    "    file.write(f'{timestamp} - Sent start command to Arduino.\\n')\n",
    "    \n",
    "    try:\n",
    "        count = 0\n",
    "        # Read data from Arduino\n",
    "        while behav_active:\n",
    "            if ser.in_waiting > 0:\n",
    "                try:\n",
    "                    line = ser.readline().decode('utf-8', errors='ignore').rstrip()\n",
    "                    timestamp = datetime.now().strftime('%H:%M:%S.%f')[:-3]\n",
    "                    log_line = f'{timestamp} - Arduino: {line}\\n'\n",
    "                    # Reduce print statements to every 10th message\n",
    "                    count += 1\n",
    "                    if count % 10 == 0:\n",
    "                        print(log_line, end='')\n",
    "                    #print(log_line, end='')  # Print the data in real-time\n",
    "                    file.write(log_line)  # file.write() has an auto determined buffer size \n",
    "                    ##can implement specific buffering by calling the lines below every 100 measurements for example\n",
    "                    #if count % 100 ==0:    \n",
    "                        #file.flush()  # Ensure the data is written to the disk\n",
    "                        #os.fsync(file.fileno())  # Force writing to disk\n",
    "                except UnicodeDecodeError:\n",
    "                    print(\"Failed to decode serial data\")\n",
    "                    continue\n",
    "    \n",
    "            # Check if 20 seconds have passed to send the stop command\n",
    "            if time.time() - start_time >= run_time:\n",
    "                #execution line (send stop command to arduino)\n",
    "                ser.write(b'X') \n",
    "                #reporting lines\n",
    "                print('Sent stop command to Arduino.')\n",
    "                timestamp = datetime.now().strftime('%Y-%m-%d %H:%M:%S.%f')[:-3]\n",
    "                file.write(f'{timestamp} - Sent stop command to Arduino.')\n",
    "                #exit behavior code line\n",
    "                behav_active = False\n",
    "    \n",
    "    except KeyboardInterrupt:\n",
    "        #execution line (send stop command to arduino)\n",
    "        ser.write(b'X')\n",
    "        #reporting lines\n",
    "        print(\"Interrupted by user. Sent stop command to Arduino.\")\n",
    "        timestamp = datetime.now().strftime('%Y-%m-%d %H:%M:%S.%f')[:-3]\n",
    "        file.write(f'{timestamp} - Interrupted by user. Sent stop command to Arduino.')\n",
    "        file.flush()\n",
    "        os.fsync(file.fileno())\n",
    "        behav_active = False\n",
    "    finally:\n",
    "        #close serial connection\n",
    "        ser.close()"
   ]
  },
  {
   "cell_type": "code",
   "execution_count": null,
   "id": "50bf738a-04eb-4866-8fbb-36a2360a121b",
   "metadata": {},
   "outputs": [],
   "source": [
    "#**ALWAYS RUN to dump melatonin on the coffee jitter \n",
    "#jk but this cell is v important to reenable the computer running script to sleep\n",
    "os_name = os.name\n",
    "if os_name ==\"nt\":\n",
    "    print(\"This is a windows system.\")\n",
    "    # Re-enable sleep mode on Windows \n",
    "    ctypes.windll.kernel32.SetThreadExecutionState(0x80000000) \n",
    "    print(\"Sleep mode re-enabled on Windows. sweet dreams\")\n",
    "elif os_name == \"posix\":\n",
    "    if platform.system() == \"Darwin\":\n",
    "        print(\"This is a macOS system.\")\n",
    "        caffeinate.terminate()\n",
    "        print(\"Caffeinate deactivated on macOS. sweet dreams\")\n",
    "    else:\n",
    "        print(\"this is a Linux system.\")\n"
   ]
  },
  {
   "cell_type": "code",
   "execution_count": 41,
   "id": "fc48dfdf-6a00-4bb4-9daa-9652f978335b",
   "metadata": {
    "jupyter": {
     "source_hidden": true
    }
   },
   "outputs": [],
   "source": [
    "# skip \n",
    "def get_integer_input(prompt):\n",
    "    while True:\n",
    "        try:\n",
    "            value = int(input(prompt))\n",
    "            return value\n",
    "        except ValueError:\n",
    "            print(\"Invalid input. Please enter a valid integer.\")"
   ]
  },
  {
   "cell_type": "code",
   "execution_count": 42,
   "id": "8092e818-fab3-436c-879d-f0af7cd87a06",
   "metadata": {},
   "outputs": [
    {
     "name": "stdout",
     "output_type": "stream",
     "text": [
      "Enter touch duration in msec:  1500\n"
     ]
    }
   ],
   "source": [
    "# skip only run if you want to redefine the touch duration\n",
    "set_touch = get_integer_input(\"Enter touch duration in msec: \")"
   ]
  },
  {
   "cell_type": "code",
   "execution_count": 43,
   "id": "cea6a9f8-4ce5-48a7-b460-063e8e8de4cf",
   "metadata": {},
   "outputs": [
    {
     "name": "stdout",
     "output_type": "stream",
     "text": [
      "Enter solenoid open duration in msec:  25\n"
     ]
    }
   ],
   "source": [
    "#skip only run if you want to redefine the solenoid open duration\n",
    "set_sol = get_integer_input(\"Enter solenoid open duration in msec: \")"
   ]
  },
  {
   "cell_type": "code",
   "execution_count": null,
   "id": "b4305109-29bd-4f1b-87f5-117b84f4fc09",
   "metadata": {
    "jupyter": {
     "source_hidden": true
    },
    "scrolled": true
   },
   "outputs": [],
   "source": [
    "#skip depricated version where we try to send variable values to arduino\n",
    "port = '/dev/tty.usbmodem101'  # Replace with your Arduino's port\n",
    "baudrate = 115200  # make sure this matches the baud rate in the Arduino sketch (.ino file)\n",
    "run_time = 30 #sec\n",
    "#request user for identiying information\n",
    "animal_ID = input(\"Enter Animal ID: \")\n",
    "training_stage = input(\"Enter training stage: \")\n",
    "\n",
    "#open window to choose directory \n",
    "root = Tk()\n",
    "root.withdraw()  # Hide the main tkinter window\n",
    "save_directory = askdirectory(title=\"Select Directory to Save Data File\")\n",
    "data_filename = f\"{animal_ID}_{training_stage}_{datetime.now().strftime('%Y%m%d_%H%M%S')}.txt\"\n",
    "data_filepath = os.path.join(save_directory, data_filename)\n",
    "\n",
    "#initialize text file to write to as 'file'\n",
    "with open(data_filepath, 'w') as file:\n",
    "    #initialize serial connection\n",
    "    ser = serial.Serial(port, baudrate, timeout=1)\n",
    "    time.sleep(2) \n",
    "    \n",
    "    #update arrduino variables if redefined by user\n",
    "    if set_touch:\n",
    "        ser.write(f\"SET_TOUCH={set_touch}\\n\".encode('utf-8'))\n",
    "        time.sleep(1)  \n",
    "        print(f\"Touch duration set to: {set_touch} msec\")\n",
    "        file.write(f\"Touch duration set to: {set_touch} msec\\n\")\n",
    "    if set_sol:\n",
    "        ser.write(f\"SET_SOL={set_sol}\\n\".encode('utf-8'))\n",
    "        time.sleep(1)  \n",
    "        print(f\"Solenoid open duration set to: {set_sol} msec\")\n",
    "        file.write(f\"Solenoid open duration set to: {set_sol} msec\\n\")\n",
    "    \n",
    "    #TRIGGER CAMERA, 2P HERE\n",
    "    \n",
    "    #send start command to Arduino\n",
    "    start_time = time.time() #use for duration based arduino script start/stop\n",
    "    ser.write(\"S\\n\".encode('utf-8')) #ser.write(b'S') char version not compatible with string arduino readout\n",
    "    behav_active = True\n",
    "    timestamp = datetime.now().strftime('%Y-%m-%d %H:%M:%S.%f')[:-3]\n",
    "    print(f'{timestamp} - Sent start command to Arduino.')\n",
    "    file.write(f'{timestamp} - Sent start command to Arduino.\\n')\n",
    "    \n",
    "    try:\n",
    "        # Read data from Arduino\n",
    "        while behav_active:\n",
    "            if ser.in_waiting > 0:\n",
    "                try:\n",
    "                    line = ser.readline().decode('utf-8', errors='ignore').rstrip()\n",
    "                    timestamp = datetime.now().strftime('%H:%M:%S.%f')[:-3]\n",
    "                    log_line = f'{timestamp} - Arduino: {line}\\n'\n",
    "                    print(log_line, end='')  # Print the data in real-time\n",
    "                    file.write(log_line)  # Save data to file incrementally\n",
    "                    file.flush()  # Ensure the data is written to the disk\n",
    "                    os.fsync(file.fileno())  # Force writing to disk\n",
    "                except UnicodeDecodeError:\n",
    "                    print(\"Failed to decode serial data\")\n",
    "                    continue\n",
    "    \n",
    "            # Check if 20 seconds have passed to send the stop command\n",
    "            if time.time() - start_time >= run_time:\n",
    "                #execution line (send stop command to arduino)\n",
    "                ser.write(\"X\\n\".encode('utf-8')) #ser.write(b'X') char version not compatible with string arduino readout\n",
    "                #reporting lines\n",
    "                print('Sent stop command to Arduino.')\n",
    "                timestamp = datetime.now().strftime('%Y-%m-%d %H:%M:%S.%f')[:-3]\n",
    "                file.write(f'{timestamp} - Sent stop command to Arduino.')\n",
    "                #exit behavior code line\n",
    "                behav_active = False\n",
    "    \n",
    "    except KeyboardInterrupt:\n",
    "        #execution line (send stop command to arduino)\n",
    "        ser.write(\"X\\n\".encode('utf-8')) #ser.write(b'X') char version not compatible with string arduino readout\n",
    "        #reporting lines\n",
    "        print(\"Interrupted by user. Sent stop command to Arduino.\")\n",
    "        timestamp = datetime.now().strftime('%Y-%m-%d %H:%M:%S.%f')[:-3]\n",
    "        file.write(f'{timestamp} - Interrupted by user. Sent stop command to Arduino.')\n",
    "    finally:\n",
    "        #close serial connection\n",
    "        ser.close()"
   ]
  },
  {
   "cell_type": "code",
   "execution_count": null,
   "id": "db0c5220-14cd-4ee4-877b-938454f1415a",
   "metadata": {
    "jupyter": {
     "source_hidden": true
    }
   },
   "outputs": [],
   "source": [
    "#depricated version where we save data to csv at end. \n",
    "#not worth bc postprocessing will be much better and this has no intermittent save data  \n",
    "port = '/dev/tty.usbmodem101'  # Replace with your Arduino's port\n",
    "baudrate = 115200  # make sure this matches the baud rate in the Arduino sketch (.ino file)\n",
    "#request user for identiying information\n",
    "#in the future commands sent to arduino can be changed based on the training stage \n",
    "animal_ID = input(\"Enter Animal ID: \")\n",
    "training_stage = input(\"Enter training stage: \")\n",
    "\n",
    "#initialize serial connection\n",
    "ser = serial.Serial(port, baudrate, timeout=1)\n",
    "time.sleep(2)  # wait for the connection to be established\n",
    "#TRIGGER CAMERA, 2P HERE\n",
    "#initialize list for sensor data storage \n",
    "sensor_data = []\n",
    "\n",
    "#send start command to Arduino\n",
    "start_time = time.time() #use for duration based arduino script start/stop\n",
    "ser.write(b'S') \n",
    "behav_active = True\n",
    "timestamp = datetime.now().strftime('%Y-%m-%d %H:%M:%S.%f')[:-3]\n",
    "print(f'{timestamp} - Sent start command to Arduino.')\n",
    "\n",
    "try:\n",
    "    # Read data from Arduino\n",
    "    while behav_active:\n",
    "        if ser.in_waiting > 0:\n",
    "            try:\n",
    "                line = ser.readline().decode('utf-8', errors='ignore').rstrip()\n",
    "                timestamp = datetime.now().strftime('%H:%M:%S.%f')[:-3]\n",
    "                print(f'{timestamp} - Arduino: {line}')\n",
    "                sensor_data.append([timestamp, line])\n",
    "            except UnicodeDecodeError:\n",
    "                print(\"Failed to decode serial data\")\n",
    "                continue\n",
    "\n",
    "        # Check if 20 seconds have passed to send the stop command\n",
    "        if time.time() - start_time >= 20:\n",
    "            ser.write(b'X')\n",
    "            print('Sent stop command to Arduino.')\n",
    "            behav_active = False\n",
    "\n",
    "except KeyboardInterrupt:\n",
    "    ser.write(b'X')\n",
    "    print(\"Interrupted by user. Sent stop command to Arduino.\")\n",
    "finally:\n",
    "    # Open a dialog to choose a directory to save the CSV file\n",
    "    root = Tk()\n",
    "    root.withdraw()  # Hide the main tkinter window\n",
    "    save_directory = askdirectory(title=\"Select Directory to Save CSV File\")\n",
    "\n",
    "    if save_directory:  # Check if the user selected a directory\n",
    "        csv_filename = f\"{animal_ID}_{training_stage}_{datetime.now().strftime('%Y%m%d_%H%M%S')}.csv\"\n",
    "        csv_filepath = os.path.join(save_directory, csv_filename)\n",
    "\n",
    "        # Save sensor data to CSV\n",
    "        with open(csv_filepath, mode='w', newline='') as file:\n",
    "            writer = csv.writer(file)\n",
    "            writer.writerow([\"Timestamp\", \"Sensor Data\"])\n",
    "            writer.writerows(sensor_data)\n",
    "        print(f\"Sensor data saved to {csv_filepath}\")\n",
    "    else:\n",
    "        print(\"No directory selected. Data not saved.\")\n",
    "    #close serial connection\n",
    "    ser.close()"
   ]
  },
  {
   "cell_type": "markdown",
   "id": "87276b17-febd-45b0-a414-53ee5948f566",
   "metadata": {},
   "source": [
    "I have decided that keeping code inside a main script is totally irrelvant in jupyter notebook\n",
    "so I will instead just put the behavior triggering code within the cell directly. "
   ]
  },
  {
   "cell_type": "code",
   "execution_count": 15,
   "id": "57334003-9c9f-4d31-bec3-a942abddc801",
   "metadata": {},
   "outputs": [
    {
     "name": "stdout",
     "output_type": "stream",
     "text": [
      "Enter Animal ID:  animal1\n",
      "Enter Session Type:  lick_direct\n"
     ]
    }
   ],
   "source": [
    "def main():\n",
    "    animal_id = input(\"Enter Animal ID: \")\n",
    "    session_type = input(\"Enter Session Type: \")\n",
    "\n",
    "if __name__ == '__main__':\n",
    "    main()"
   ]
  },
  {
   "cell_type": "code",
   "execution_count": 16,
   "id": "45f0b0c9-0c66-4be1-8792-c2ebc6d459e0",
   "metadata": {
    "scrolled": true
   },
   "outputs": [
    {
     "name": "stdout",
     "output_type": "stream",
     "text": [
      "Enter Animal ID:  animal1\n",
      "Enter Session Type:  lick\n"
     ]
    }
   ],
   "source": [
    "animal_id = input(\"Enter Animal ID: \")\n",
    "session_type = input(\"Enter Session Type: \")"
   ]
  },
  {
   "cell_type": "code",
   "execution_count": null,
   "id": "b4be7ddd-1589-402a-970d-84ffe60e1dba",
   "metadata": {},
   "outputs": [],
   "source": [
    "#old version, keep for history \n",
    "def main():\n",
    "    port = '/dev/tty.usbmodem101'  # Replace with your Arduino's port\n",
    "    baudrate = 115200\n",
    "    solenoidCount = 0\n",
    "    # Initialize serial connection\n",
    "    ser = serial.Serial(port, baudrate, timeout=1)\n",
    "    time.sleep(2)  # Wait for the connection to be established\n",
    "\n",
    "    # Send start command to Arduino\n",
    "    ser.write(b'S')\n",
    "    print('Sent start command to Arduino.')\n",
    "\n",
    "    try:\n",
    "        # Read data from Arduino\n",
    "        while True:\n",
    "            if ser.in_waiting > 0:\n",
    "                line = ser.readline().decode('utf-8').rstrip()\n",
    "                print(f'Arduino: {line}')\n",
    "                if line == 'Solenoid Activated':\n",
    "                    solenoidCount+=1\n",
    "                if solenoidCount >10:\n",
    "                    break  # Exit loop after solenoid activation (modify as needed)\n",
    "\n",
    "            # Check for stop condition or other conditions as needed\n",
    "            # e.g., send stop command 'X' to Arduino\n",
    "            # ser.write(b'X')\n",
    "            # break\n",
    "    except KeyboardInterrupt:\n",
    "        print(\"Interrupted by user\")\n",
    "        ser.write(b'X')  # Send stop command to Arduino\n",
    "    finally:\n",
    "        # Close serial connection\n",
    "        ser.close()\n",
    "\n",
    "# Ensure the main function is called if this script is executed directly\n",
    "if __name__ == '__main__':\n",
    "    main()\n"
   ]
  },
  {
   "cell_type": "code",
   "execution_count": null,
   "id": "1d0c253e-f5f2-4b81-8840-68bdf1154493",
   "metadata": {},
   "outputs": [],
   "source": [
    "#old calibration script, for fixed arduino script. \n",
    "#need to ensure arduino has the correct ino file uploaded. #calibrate_open_solenoid.ino\n",
    "port = '/dev/tty.usbmodem101'  # Replace with your Arduino's port\n",
    "baudrate = 115200\n",
    "drops = 10\n",
    "\n",
    "# Initialize serial connection\n",
    "ser = serial.Serial(port, baudrate, timeout=1)\n",
    "time.sleep(2)  # Wait for the connection to be established\n",
    "\n",
    "for i in range(drops):\n",
    "    ser.write(b'C')\n",
    "    print(f'valve open / drop {i+1}')\n",
    "    time.sleep(0.1)  # Short delay to allow the Arduino to respond\n",
    "    if ser.in_waiting > 0:\n",
    "        response = ser.readline().decode('utf-8').rstrip()\n",
    "        print(f'Arduino: {response}')\n",
    "    \n",
    "    # Optional: Additional delay between drops\n",
    "    time.sleep(1)\n",
    "# Close serial connection\n",
    "ser.close()"
   ]
  }
 ],
 "metadata": {
  "kernelspec": {
   "display_name": "Python 3 (ipykernel)",
   "language": "python",
   "name": "python3"
  },
  "language_info": {
   "codemirror_mode": {
    "name": "ipython",
    "version": 3
   },
   "file_extension": ".py",
   "mimetype": "text/x-python",
   "name": "python",
   "nbconvert_exporter": "python",
   "pygments_lexer": "ipython3",
   "version": "3.12.3"
  }
 },
 "nbformat": 4,
 "nbformat_minor": 5
}
