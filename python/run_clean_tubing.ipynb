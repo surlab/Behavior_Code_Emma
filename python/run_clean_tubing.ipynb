{
 "cells": [
  {
   "cell_type": "markdown",
   "metadata": {},
   "source": [
    "### This script just allows you to run the clean tubing script on arduino\n",
    "use when you get an airbubble in tubing or if you just need to clean it. "
   ]
  },
  {
   "cell_type": "code",
   "execution_count": 1,
   "metadata": {},
   "outputs": [],
   "source": [
    "import serial\n",
    "import time \n",
    "from datetime import datetime\n",
    "import os\n",
    "import csv\n",
    "import pandas as pd\n",
    "from tkinter import Tk\n",
    "from tkinter.filedialog import askdirectory"
   ]
  },
  {
   "cell_type": "code",
   "execution_count": 2,
   "metadata": {},
   "outputs": [
    {
     "name": "stdout",
     "output_type": "stream",
     "text": [
      "Port: COM3, Path: USB VID:PID=2341:0043 SER=851303035383512002A0 LOCATION=1-12, Description: Arduino Uno (COM3)\n"
     ]
    }
   ],
   "source": [
    "# run if you need to get port info, on pc port should just be something like COM3\n",
    "import serial.tools.list_ports\n",
    "ports = serial.tools.list_ports.comports()\n",
    "for port in ports:\n",
    "    print(f\"Port: {port.device}, Path: {port.hwid}, Description: {port.description}\")"
   ]
  },
  {
   "cell_type": "markdown",
   "metadata": {},
   "source": [
    "## Upload clean_tubing_just_open_solenoid.ino to arduino \n",
    "upload the .ino file to arduino via the arduino IDE"
   ]
  },
  {
   "cell_type": "code",
   "execution_count": 5,
   "metadata": {},
   "outputs": [
    {
     "name": "stdout",
     "output_type": "stream",
     "text": [
      "2024-10-07 21:15:12.774 - Sent start command to Arduino.\n",
      "Sent stop command to Arduino.\n"
     ]
    }
   ],
   "source": [
    "#run to allow arduino script to run for dur (20) sec\n",
    "port = 'COM3'  # Replace with your Arduino's port\n",
    "baudrate = 115200  # make sure this matches the baud rate in the Arduino sketch (.ino file)\n",
    "dur = 20 #sec\n",
    "\n",
    "#initialize serial connection\n",
    "ser = serial.Serial(port, baudrate, timeout=1)\n",
    "time.sleep(2)  # wait for the connection to be established\n",
    "\n",
    "#send start command to Arduino\n",
    "start_time = time.time() #use for duration based arduino script start/stop\n",
    "ser.write(b'S') \n",
    "behav_active = True\n",
    "timestamp = datetime.now().strftime('%Y-%m-%d %H:%M:%S.%f')[:-3]\n",
    "print(f'{timestamp} - Sent start command to Arduino.')\n",
    "\n",
    "try:\n",
    "    # Read data from Arduino\n",
    "    while behav_active:\n",
    "        # Check if 20 seconds have passed to send the stop command\n",
    "        if time.time() - start_time >= dur:\n",
    "            ser.write(b'X')\n",
    "            print('Sent stop command to Arduino.')\n",
    "            behav_active = False\n",
    "\n",
    "except KeyboardInterrupt:\n",
    "    ser.write(b'X')\n",
    "    print(\"Interrupted by user. Sent stop command to Arduino.\")\n",
    "finally:\n",
    "    #close serial connection\n",
    "    ser.close()"
   ]
  }
 ],
 "metadata": {
  "kernelspec": {
   "display_name": "arduino_interface",
   "language": "python",
   "name": "python3"
  },
  "language_info": {
   "codemirror_mode": {
    "name": "ipython",
    "version": 3
   },
   "file_extension": ".py",
   "mimetype": "text/x-python",
   "name": "python",
   "nbconvert_exporter": "python",
   "pygments_lexer": "ipython3",
   "version": "3.12.3"
  }
 },
 "nbformat": 4,
 "nbformat_minor": 2
}
