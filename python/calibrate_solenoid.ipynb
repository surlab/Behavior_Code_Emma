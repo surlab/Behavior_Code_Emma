{
 "cells": [
  {
   "cell_type": "markdown",
   "id": "a9de6084-c899-40f3-96a3-4646be9c5c52",
   "metadata": {},
   "source": [
    "# This is a calibration script. \n",
    "Any cell that should be run everytime will have * in the top comment/line"
   ]
  },
  {
   "cell_type": "code",
   "execution_count": 3,
   "id": "4307e0a4-2ba1-4b61-bde0-b9d9c26284ea",
   "metadata": {},
   "outputs": [],
   "source": [
    "# * run at start of each session, clear all variables\n",
    "for var in list(globals().keys()):\n",
    "    if var not in ['__builtins__', '__name__', '__doc__', '__package__', '__loader__', '__spec__', '__annotations__']:\n",
    "        del globals()[var]"
   ]
  },
  {
   "cell_type": "code",
   "execution_count": 24,
   "id": "81a354c9-43ea-4c25-bbc3-80196690f12a",
   "metadata": {},
   "outputs": [],
   "source": [
    "# * run import at start of each session\n",
    "import serial\n",
    "import time \n",
    "from datetime import datetime\n",
    "import os\n",
    "import csv\n",
    "import pandas as pd\n",
    "from tkinter import Tk\n",
    "from tkinter.filedialog import askdirectory\n",
    "import matplotlib.pyplot as plt\n",
    "import seaborn as sns\n",
    "import numpy as np"
   ]
  },
  {
   "cell_type": "markdown",
   "id": "ce7fc37d-35cb-4fa5-ac6b-3538b2839b8f",
   "metadata": {},
   "source": [
    "## Start calibration\n",
    "### Make sure to upload calibrate_open_solenoid.ino to arduino \n",
    "can be found at /Users/emmaodom/Documents/GitHub/Behavior_Code_Emma/arduino ino/calibrate_open_solenoid/calibrate_open_solenoid.ino\n",
    "\n",
    "### Update port in cell below if needed\n",
    "To get port number type 'ls /dev/tty.*' in terminal\n",
    "\n",
    "### Run cell below to start calibration\n",
    "use small plastic weight bins with label for each valve open **duration**  \n",
    "the script will pause for you to change the water bins between conditions  \n",
    "make sure to press return (mac) or enter (pc) after you switch the water bin collection  \n",
    "fill the syringe to 3 ml at start every time!  \n",
    "if water doesnt drop, make sure to collect by gently touching droplet to the bin."
   ]
  },
  {
   "cell_type": "code",
   "execution_count": null,
   "id": "a38be819-40d2-4901-9a11-81676523111f",
   "metadata": {},
   "outputs": [],
   "source": [
    "# * run calibration script for solenoid control \n",
    "port = '/dev/tty.usbmodem101'  # Replace with your Arduino's port\n",
    "baudrate = 115200\n",
    "drops = 25  # Number of drops for each duration\n",
    "durations = range(10, 61, 50)  # Durations from 10 to 70 ms in steps of 10\n",
    "\n",
    "input(f\"\\n Did you fill the syringe to 3 ml??? Press Enter to continue...\")\n",
    "\n",
    "# Initialize serial connection\n",
    "ser = serial.Serial(port, baudrate, timeout=1)\n",
    "time.sleep(2)  # Wait for the connection to be established\n",
    "\n",
    "try:\n",
    "    for duration in durations:\n",
    "        # Print and send the new solenoid duration to Arduino\n",
    "        print(f\"\\nStarting calibration for solenoid duration: {duration} ms\")\n",
    "        ser.write(f'SET_SOL_DURATION={duration}\\n'.encode('utf-8'))\n",
    "        print(f'Sent new solenoid duration: {duration} ms')\n",
    "\n",
    "        # Wait for Arduino to confirm the update\n",
    "        while True:\n",
    "            if ser.in_waiting > 0:\n",
    "                response = ser.readline().decode('utf-8').rstrip()\n",
    "                print(f'Arduino: {response}')\n",
    "                if \"Solenoid duration updated\" in response:\n",
    "                    break\n",
    "\n",
    "        # Perform 10 drops with the current duration\n",
    "        for i in range(drops):\n",
    "            # Send command to open the solenoid\n",
    "            ser.write(b'C')\n",
    "            print(f'Sent command for drop {i+1} at duration {duration} ms')\n",
    "\n",
    "            # Read and print Arduino's response\n",
    "            while True:\n",
    "                if ser.in_waiting > 0:\n",
    "                    response = ser.readline().decode('utf-8').rstrip()\n",
    "                    print(f'Arduino: {response}')\n",
    "                    if \"Solenoid Deactivated\" in response:\n",
    "                        break  # Move to the next drop\n",
    "\n",
    "            # Optional: Delay between drops, if necessary\n",
    "            time.sleep(0.5)  # Adjust delay as needed\n",
    "\n",
    "        # Prompt the user to change the collection tube before continuing\n",
    "        input(f\"\\nPlease change the collection tube for the next duration ({duration + 10} ms). Press Enter to continue...\")\n",
    "\n",
    "finally:\n",
    "    # Close serial connection\n",
    "    ser.close()\n",
    "    print(\"Serial connection closed\")\n"
   ]
  },
  {
   "cell_type": "markdown",
   "id": "26d9fdfd-57cd-440b-a00c-81afc696818b",
   "metadata": {},
   "source": [
    "### Weigh the samples\n",
    "Use the nice scale in histology this is very important!   \n",
    "make sure to tare with empty weighbin.   \n",
    "weigh and type in values as you go, it will iterate through the samples and prompt you for weight"
   ]
  },
  {
   "cell_type": "code",
   "execution_count": 14,
   "id": "4a902a8c-74de-48b4-aa0c-ff772ccfceaf",
   "metadata": {},
   "outputs": [
    {
     "name": "stdin",
     "output_type": "stream",
     "text": [
      "Enter the weight (mg) collected for valve open 10 (ms):  0\n",
      "Enter the weight (mg) collected for valve open 20 (ms):  38.3\n",
      "Enter the weight (mg) collected for valve open 30 (ms):  97.0\n",
      "Enter the weight (mg) collected for valve open 40 (ms):  75.8\n",
      "Enter the weight (mg) collected for valve open 50 (ms):  189.2\n",
      "Enter the weight (mg) collected for valve open 60 (ms):  173.3\n"
     ]
    }
   ],
   "source": [
    "# * run each time, to record the water weight from each condition\n",
    "data = []\n",
    "for duration in durations:\n",
    "    weight = input(f\"Enter the weight (mg) collected for valve open {duration} (ms): \")\n",
    "    data.append((duration,weight))\n",
    "calibration = pd.DataFrame(data, columns=['valve_open_msec', 'weight_mg'])"
   ]
  },
  {
   "cell_type": "markdown",
   "id": "0e4f89dd-cc1c-44f1-8c58-6a83ec871563",
   "metadata": {},
   "source": [
    "### save immediately after recording measurements\n",
    "can save again after processing"
   ]
  },
  {
   "cell_type": "code",
   "execution_count": 18,
   "id": "786343cc-f127-4d8a-a039-66e564d7904e",
   "metadata": {},
   "outputs": [],
   "source": [
    "#* run to save calibration results immediately! \n",
    "#open window to choose directory \n",
    "root = Tk()\n",
    "root.withdraw()  # Hide the main tkinter window\n",
    "save_directory = askdirectory(title=\"Select Directory to Save Data File\")\n",
    "#create filename + path\n",
    "filename = f\"calibration_{datetime.now().strftime('%Y%m%d_%H%M%S')}.csv\"\n",
    "filepath = os.path.join(save_directory, filename)\n",
    "#save to csv\n",
    "calibration.to_csv(filepath,index=False)"
   ]
  },
  {
   "cell_type": "markdown",
   "id": "76f6eff1-3971-4644-a59b-e477dd374f27",
   "metadata": {},
   "source": [
    "## plot calibration data and print target valve open time "
   ]
  },
  {
   "cell_type": "code",
   "execution_count": 47,
   "id": "b90264d6-391b-40e9-b345-c34c5a0b876e",
   "metadata": {},
   "outputs": [
    {
     "data": {
      "image/png": "[encoded data removed]",
      "text/plain": [
       "<Figure size 640x480 with 1 Axes>"
      ]
     },
     "metadata": {},
     "output_type": "display_data"
    },
    {
     "name": "stdout",
     "output_type": "stream",
     "text": [
      "Open valve for 35.9 msec to get drop of 100 mg or 0.1 ml\n"
     ]
    }
   ],
   "source": [
    "calibration = pd.read_csv(filepath)\n",
    "#select valid range for calibration\n",
    "valid_calib = calibration[calibration['weight_mg'] > 0]\n",
    "sns.scatterplot(data=valid_calib, x='valve_open_msec' , y='weight_mg')\n",
    "# polyfit returns the slope and intercept for the linear regression line\n",
    "slope, intercept = np.polyfit(valid_calib['valve_open_msec'], valid_calib['weight_mg'], 1)\n",
    "# plot the line of best fit\n",
    "plt.plot(valid_calib['valve_open_msec'], slope * valid_calib['valve_open_msec'] + intercept, color='red', label='Best Fit Line')\n",
    "plt.show()\n",
    "\n",
    "#get target value\n",
    "target_weight = 100 #mg\n",
    "target_time = (target_weight-intercept)/slope\n",
    "print(f'Open valve for {target_time:.1f} msec to get drop of {target_weight} mg or {target_weight/1000} ml')"
   ]
  },
  {
   "cell_type": "markdown",
   "id": "864d3933-a6d2-4eb8-92b3-8b8fe3fe3c6c",
   "metadata": {},
   "source": [
    "Do people typically make multiple measurements per condition? this line is not very linear but my datapoints are sparse and have only one measurement. "
   ]
  },
  {
   "cell_type": "code",
   "execution_count": null,
   "id": "df5b2da1-b4a6-4b38-8b1c-924ac74fa672",
   "metadata": {},
   "outputs": [],
   "source": []
  }
 ],
 "metadata": {
  "kernelspec": {
   "display_name": "Python (arduino_interface)",
   "language": "python",
   "name": "arduino_interface"
  },
  "language_info": {
   "codemirror_mode": {
    "name": "ipython",
    "version": 3
   },
   "file_extension": ".py",
   "mimetype": "text/x-python",
   "name": "python",
   "nbconvert_exporter": "python",
   "pygments_lexer": "ipython3",
   "version": "3.12.3"
  }
 },
 "nbformat": 4,
 "nbformat_minor": 5
}
