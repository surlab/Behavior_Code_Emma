{
 "cells": [
  {
   "cell_type": "code",
   "execution_count": 1,
   "id": "d2b9c27c-6628-492e-b077-a32ae0168f92",
   "metadata": {},
   "outputs": [],
   "source": [
    "import time\n",
    "import ctypes\n",
    "from datetime import datetime"
   ]
  },
  {
   "cell_type": "code",
   "execution_count": 2,
   "id": "011d9079-5ede-4333-ba66-150e131e2e3b",
   "metadata": {},
   "outputs": [
    {
     "name": "stderr",
     "output_type": "stream",
     "text": [
      "<>:2: SyntaxWarning: invalid escape sequence '\\P'\n",
      "<>:2: SyntaxWarning: invalid escape sequence '\\P'\n",
      "C:\\Users\\emma_odom\\AppData\\Local\\Temp\\ipykernel_1944\\3868172238.py:2: SyntaxWarning: invalid escape sequence '\\P'\n",
      "  pll.par[\"devices/dlls/thorlabs_tlcam\"] = \"C:\\Program Files\\Thorlabs\\Scientific Imaging\\ThorCam\"\n",
      "C:\\Users\\emma_odom\\AppData\\Local\\Temp\\ipykernel_1944\\3868172238.py:2: SyntaxWarning: invalid escape sequence '\\P'\n",
      "  pll.par[\"devices/dlls/thorlabs_tlcam\"] = \"C:\\Program Files\\Thorlabs\\Scientific Imaging\\ThorCam\"\n"
     ]
    },
    {
     "ename": "ModuleNotFoundError",
     "evalue": "No module named 'pylablib'",
     "output_type": "error",
     "traceback": [
      "\u001b[1;31m---------------------------------------------------------------------------\u001b[0m",
      "\u001b[1;31mModuleNotFoundError\u001b[0m                       Traceback (most recent call last)",
      "Cell \u001b[1;32mIn[2], line 1\u001b[0m\n\u001b[1;32m----> 1\u001b[0m \u001b[38;5;28;01mimport\u001b[39;00m \u001b[38;5;21;01mpylablib\u001b[39;00m \u001b[38;5;28;01mas\u001b[39;00m \u001b[38;5;21;01mpll\u001b[39;00m\n\u001b[0;32m      2\u001b[0m pll\u001b[38;5;241m.\u001b[39mpar[\u001b[38;5;124m\"\u001b[39m\u001b[38;5;124mdevices/dlls/thorlabs_tlcam\u001b[39m\u001b[38;5;124m\"\u001b[39m] \u001b[38;5;241m=\u001b[39m \u001b[38;5;124m\"\u001b[39m\u001b[38;5;124mC:\u001b[39m\u001b[38;5;124m\\\u001b[39m\u001b[38;5;124mProgram Files\u001b[39m\u001b[38;5;124m\\\u001b[39m\u001b[38;5;124mThorlabs\u001b[39m\u001b[38;5;124m\\\u001b[39m\u001b[38;5;124mScientific Imaging\u001b[39m\u001b[38;5;124m\\\u001b[39m\u001b[38;5;124mThorCam\u001b[39m\u001b[38;5;124m\"\u001b[39m\n\u001b[0;32m      3\u001b[0m \u001b[38;5;28;01mfrom\u001b[39;00m \u001b[38;5;21;01mpylablib\u001b[39;00m\u001b[38;5;21;01m.\u001b[39;00m\u001b[38;5;21;01mdevices\u001b[39;00m \u001b[38;5;28;01mimport\u001b[39;00m Thorlabs\n",
      "\u001b[1;31mModuleNotFoundError\u001b[0m: No module named 'pylablib'"
     ]
    }
   ],
   "source": [
    "import pylablib as pll\n",
    "pll.par[\"devices/dlls/thorlabs_tlcam\"] = \"C:\\Program Files\\Thorlabs\\Scientific Imaging\\ThorCam\"\n",
    "from pylablib.devices import Thorlabs\n",
    "cam = Thorlabs.ThorlabsTLCamera()"
   ]
  },
  {
   "cell_type": "code",
   "execution_count": null,
   "id": "499e150d-25a5-4cfc-9718-62c0cb770616",
   "metadata": {},
   "outputs": [],
   "source": [
    "# Load the camera SDK (replace 'camera_sdk' with the actual SDK library file)\n",
    "camera_sdk = ctypes.CDLL('camera_sdk.dll')  # Example for Windows, replace with actual SDK file\n",
    "\n",
    "# Initialize the camera\n",
    "camera_sdk.InitializeCamera()\n",
    "\n",
    "# Set the frame rate (replace with actual function call from SDK)\n",
    "frame_rate = 30  # 30 frames per second\n",
    "camera_sdk.SetFrameRate(ctypes.c_int(frame_rate))\n",
    "\n",
    "# Start recording\n",
    "camera_sdk.StartRecording()\n",
    "\n",
    "# Capture frames and record timestamps\n",
    "frame_count = 0\n",
    "record_duration = 10  # Record for 10 seconds\n",
    "start_time = time.time()\n",
    "\n",
    "timestamps = []\n",
    "while time.time() - start_time < record_duration:\n",
    "    # Capture a frame (replace with actual function call from SDK)\n",
    "    camera_sdk.CaptureFrame()\n",
    "\n",
    "    # Record the timestamp\n",
    "    timestamp = datetime.now().strftime('%Y-%m-%d %H:%M:%S.%f')[:-3]\n",
    "    timestamps.append(timestamp)\n",
    "    frame_count += 1\n",
    "\n",
    "    # Sleep for the duration of one frame (optional, depending on how the SDK handles frame timing)\n",
    "    time.sleep(1 / frame_rate)\n",
    "\n",
    "# Stop recording\n",
    "camera_sdk.StopRecording()\n",
    "\n",
    "# Save timestamps to a file\n",
    "with open('frame_timestamps.txt', 'w') as f:\n",
    "    for ts in timestamps:\n",
    "        f.write(f'{ts}\\n')\n",
    "\n",
    "# Cleanup\n",
    "camera_sdk.ShutdownCamera()\n",
    "\n",
    "print(f'Recorded {frame_count} frames at {frame_rate} FPS')\n"
   ]
  }
 ],
 "metadata": {
  "kernelspec": {
   "display_name": "Python 3 (ipykernel)",
   "language": "python",
   "name": "python3"
  },
  "language_info": {
   "codemirror_mode": {
    "name": "ipython",
    "version": 3
   },
   "file_extension": ".py",
   "mimetype": "text/x-python",
   "name": "python",
   "nbconvert_exporter": "python",
   "pygments_lexer": "ipython3",
   "version": "3.12.3"
  }
 },
 "nbformat": 4,
 "nbformat_minor": 5
}
