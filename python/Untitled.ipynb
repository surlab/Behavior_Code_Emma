{
 "cells": [
  {
   "cell_type": "code",
   "execution_count": 2,
   "id": "286279b3-24a8-428d-82db-2a722a52ff55",
   "metadata": {},
   "outputs": [],
   "source": [
    "from pyfirmata import Arduino, util"
   ]
  }
 ],
 "metadata": {
  "kernelspec": {
   "display_name": "Python (arduino_interface)",
   "language": "python",
   "name": "arduino_interface"
  },
  "language_info": {
   "codemirror_mode": {
    "name": "ipython",
    "version": 3
   },
   "file_extension": ".py",
   "mimetype": "text/x-python",
   "name": "python",
   "nbconvert_exporter": "python",
   "pygments_lexer": "ipython3",
   "version": "3.12.3"
  }
 },
 "nbformat": 4,
 "nbformat_minor": 5
}
