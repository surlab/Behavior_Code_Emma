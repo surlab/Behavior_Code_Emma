{
 "cells": [
  {
   "cell_type": "markdown",
   "metadata": {},
   "source": [
    "Press esc M to change cell to text (markdown)\n",
    "To stop cell, click outside of code section and press II quickly (not capital)   \n",
    "To keyboard interrupt (ie stop cell stop behavior) click the leftside bar but outside the cell  \n",
    "Press ii quickly"
   ]
  },
  {
   "cell_type": "markdown",
   "metadata": {},
   "source": [
    "Any cell that should be run everytime will have * in the top comment/line\n",
    "\n",
    "near future upgrades :  \n",
    "**caffeinate based on operating system to prevent sleep!**  \n",
    "**implement limit of number of succesful licks (need to track licks first thooo**  \n",
    "**alert when done, make it easy to see how much time has passed/is left**  \n",
    " *move arduino to opposite side of the rig to enable camera placement on user side *  \n",
    "also i think we could make the lines specifically print around solenoid activated bc thats what i care about seeing real time (ie is it licking?)\n",
    "   \n",
    "resolved upgrade: buffered write to txt file (dont want to add delay if not needed    \n",
    "how do you determine what the buffer size should be and what are the units ?    \n",
    "  \n",
    "notes:   \n",
    "it actuaLLY matters if mouse is holding bar when behavior starts, so we need to start behvaior before the bar is placed  \n",
    "otherwise the bar touch sensor will not work until it slowly recalibrates itself   \n",
    "  \n",
    "\n",
    "tomorrow morning work on the damn camera system with atlas"
   ]
  },
  {
   "cell_type": "code",
   "execution_count": null,
   "metadata": {},
   "outputs": [],
   "source": [
    "# * run at start of each session, clear all variables\n",
    "for var in list(globals().keys()):\n",
    "    if var not in ['__builtins__', '__name__', '__doc__', '__package__', '__loader__', '__spec__', '__annotations__']:\n",
    "        del globals()[var]"
   ]
  },
  {
   "cell_type": "code",
   "execution_count": null,
   "metadata": {},
   "outputs": [],
   "source": [
    "import serial\n",
    "import time \n",
    "from datetime import datetime\n",
    "import os\n",
    "import csv\n",
    "import pandas as pd\n",
    "from tkinter import Tk\n",
    "from tkinter.filedialog import askdirectory"
   ]
  },
  {
   "cell_type": "markdown",
   "metadata": {},
   "source": [
    "(**mac**) To get port number type 'ls /dev/tty.*' in terminal"
   ]
  },
  {
   "cell_type": "code",
   "execution_count": null,
   "metadata": {},
   "outputs": [
    {
     "name": "stdout",
     "output_type": "stream",
     "text": [
      "Port: COM3, Path: USB VID:PID=2341:0043 SER=851303035383512002A0 LOCATION=1-1, Description: USB Serial Device (COM3)\n",
      "Port: COM1, Path: ACPI\\PNP0501\\0, Description: Communications Port (COM1)\n"
     ]
    }
   ],
   "source": [
    "# get port info, on pc port should just be something like COM3\n",
    "import serial.tools.list_ports\n",
    "ports = serial.tools.list_ports.comports()\n",
    "for port in ports:\n",
    "    print(f\"Port: {port.device}, Path: {port.hwid}, Description: {port.description}\")"
   ]
  },
  {
   "cell_type": "code",
   "execution_count": null,
   "metadata": {},
   "outputs": [
    {
     "name": "stdout",
     "output_type": "stream",
     "text": [
      "This is a windows system.\n",
      "Sleep mode disabled on Windows.\n"
     ]
    }
   ],
   "source": [
    "#* caffeine!!! run to prevent sleep / interruption of data collection\n",
    "import platform\n",
    "import subprocess\n",
    "import ctypes\n",
    "\n",
    "os_name = os.name\n",
    "if os_name ==\"nt\":\n",
    "    print(\"This is a windows system.\")\n",
    "   # Use ctypes to prevent sleep on Windows \n",
    "    ctypes.windll.kernel32.SetThreadExecutionState( \n",
    "        0x80000000 | 0x00000001 | 0x00000002 ) \n",
    "    print(\"Sleep mode disabled on Windows.\")\n",
    "elif os_name == \"posix\":\n",
    "    if platform.system() == \"Darwin\":\n",
    "        print(\"This is a macOS system.\")\n",
    "        caffeinate = subprocess.Popen(['caffeinate'])\n",
    "        print(\"Caffeinate activated on macOS.\")\n",
    "    else:\n",
    "        print(\"this is a Linux system.\")"
   ]
  },
  {
   "cell_type": "code",
   "execution_count": null,
   "metadata": {},
   "outputs": [],
   "source": [
    "# * run this cell to test behavior rig for run_time\n",
    "port = 'COM3'  # Replace with your Arduino's port\n",
    "baudrate = 115200  # make sure this matches the baud rate in the Arduino sketch (.ino file)\n",
    "run_time = 10*60 #sec\n",
    "#request user for identiying information\n",
    "animal_ID = input(\"Enter Animal ID: \")\n",
    "training_stage = input(\"Enter training stage: \")\n",
    "\n",
    "#open window to choose directory \n",
    "root = Tk()\n",
    "root.withdraw()  # Hide the main tkinter window\n",
    "save_directory = askdirectory(title=\"Select Directory to Save Data File\")\n",
    "data_filename = f\"{animal_ID}_{training_stage}_{datetime.now().strftime('%Y%m%d_%H%M%S')}.txt\"\n",
    "data_filepath = os.path.join(save_directory, data_filename)\n",
    "\n",
    "#initialize file to write to as 'file'\n",
    "with open(data_filepath, 'w') as file:\n",
    "    #initialize serial connection\n",
    "    ser = serial.Serial(port, baudrate, timeout=1)\n",
    "    time.sleep(2) \n",
    "    \n",
    "    #TRIGGER CAMERA, 2P HERE\n",
    "    \n",
    "    #send start command to Arduino\n",
    "    start_time = time.time() #use for duration based arduino script start/stop\n",
    "    ser.write(b'S') \n",
    "    behav_active = True\n",
    "    timestamp = datetime.now().strftime('%Y-%m-%d %H:%M:%S.%f')[:-3]\n",
    "    print(f'{timestamp} - Sent start command to Arduino.')\n",
    "    file.write(f'{timestamp} - Sent start command to Arduino.\\n')\n",
    "    \n",
    "    try:\n",
    "        count = 0\n",
    "        # Read data from Arduino\n",
    "        while behav_active:\n",
    "            if ser.in_waiting > 0:\n",
    "                try:\n",
    "                    line = ser.readline().decode('utf-8', errors='ignore').rstrip()\n",
    "                    timestamp = datetime.now().strftime('%H:%M:%S.%f')[:-3]\n",
    "                    log_line = f'{timestamp} - Arduino: {line}\\n'\n",
    "                    # Reduce print statements to every 10th message\n",
    "                    count += 1\n",
    "                    if count % 10 == 0:\n",
    "                        print(log_line, end='')\n",
    "                    #print(log_line, end='')  # Print the data in real-time\n",
    "                    file.write(log_line)  # file.write() has an auto determined buffer size \n",
    "                    ##can implement specific buffering by calling the lines below every 100 measurements for example\n",
    "                    #if count % 100 ==0:    \n",
    "                        #file.flush()  # Ensure the data is written to the disk\n",
    "                        #os.fsync(file.fileno())  # Force writing to disk\n",
    "                except UnicodeDecodeError:\n",
    "                    print(\"Failed to decode serial data\")\n",
    "                    continue\n",
    "    \n",
    "            # Check if 20 seconds have passed to send the stop command\n",
    "            if time.time() - start_time >= run_time:\n",
    "                #execution line (send stop command to arduino)\n",
    "                ser.write(b'X') \n",
    "                #reporting lines\n",
    "                print('Sent stop command to Arduino.')\n",
    "                timestamp = datetime.now().strftime('%Y-%m-%d %H:%M:%S.%f')[:-3]\n",
    "                file.write(f'{timestamp} - Sent stop command to Arduino.')\n",
    "                #exit behavior code line\n",
    "                behav_active = False\n",
    "    \n",
    "    except KeyboardInterrupt:\n",
    "        #execution line (send stop command to arduino)\n",
    "        ser.write(b'X')\n",
    "        #reporting lines\n",
    "        print(\"Interrupted by user. Sent stop command to Arduino.\")\n",
    "        timestamp = datetime.now().strftime('%Y-%m-%d %H:%M:%S.%f')[:-3]\n",
    "        file.write(f'{timestamp} - Interrupted by user. Sent stop command to Arduino.')\n",
    "        file.flush()\n",
    "        os.fsync(file.fileno())\n",
    "        behav_active = False\n",
    "    finally:\n",
    "        #close serial connection\n",
    "        ser.close()"
   ]
  },
  {
   "cell_type": "code",
   "execution_count": null,
   "metadata": {},
   "outputs": [],
   "source": [
    "#**ALWAYS RUN to dump melatonin on the coffee jitter \n",
    "#jk but this cell is v important to reenable the computer running script to sleep\n",
    "os_name = os.name\n",
    "if os_name ==\"nt\":\n",
    "    print(\"This is a windows system.\")\n",
    "    # Re-enable sleep mode on Windows \n",
    "    ctypes.windll.kernel32.SetThreadExecutionState(0x80000000) \n",
    "    print(\"Sleep mode re-enabled on Windows. sweet dreams\")\n",
    "elif os_name == \"posix\":\n",
    "    if platform.system() == \"Darwin\":\n",
    "        print(\"This is a macOS system.\")\n",
    "        caffeinate.terminate()\n",
    "        print(\"Caffeinate deactivated on macOS. sweet dreams\")\n",
    "    else:\n",
    "        print(\"this is a Linux system.\")\n"
   ]
  }
 ],
 "metadata": {
  "language_info": {
   "name": "python"
  }
 },
 "nbformat": 4,
 "nbformat_minor": 2
}
