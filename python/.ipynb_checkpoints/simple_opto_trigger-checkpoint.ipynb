{
 "cells": [
  {
   "cell_type": "code",
   "execution_count": 1,
   "id": "02906cf1-d936-4238-a5d1-8234067017b4",
   "metadata": {},
   "outputs": [],
   "source": [
    "import serial\n",
    "import time"
   ]
  },
  {
   "cell_type": "markdown",
   "id": "ac4d5f38-28d6-41b8-b393-ca137a441506",
   "metadata": {},
   "source": [
    "upload \"opto_serial_control_aug23.ino\" to arduino   \n",
    " **MODIFY** this .ino to use delay millis timer rather that delay command  \n",
    "update cell belwo to wait for user input to send start and stop commands (chatgpt)"
   ]
  },
  {
   "cell_type": "code",
   "execution_count": 3,
   "id": "919118a7-3221-4b4d-8c88-9a9d46cccc87",
   "metadata": {},
   "outputs": [
    {
     "name": "stdout",
     "output_type": "stream",
     "text": [
      "Sent start command to Arduino.\n",
      "Arduino: Opto stim started\n",
      "Arduino: frequency: 40Hz\n",
      "Arduino: LED_on_time 5ms\n",
      "Sent stop command to Arduino.\n",
      "Serial connection closed.\n"
     ]
    }
   ],
   "source": [
    "# Serial port configuration\n",
    "port = '/dev/tty.usbserial-AC013D4L'  # Replace with your Arduino's port\n",
    "baudrate = 115200  # Ensure this matches the baud rate in the Arduino sketch (.ino file)\n",
    "\n",
    "# Initialize serial connection\n",
    "ser = serial.Serial(port, baudrate, timeout=1)\n",
    "time.sleep(2)  # Wait for the connection to be established\n",
    "\n",
    "# Function to send start command\n",
    "def send_start():\n",
    "    ser.write(b'S')\n",
    "    print(\"Sent start command to Arduino.\")\n",
    "\n",
    "# Function to send stop command\n",
    "def send_stop():\n",
    "    ser.write(b'X')\n",
    "    print(\"Sent stop command to Arduino.\")\n",
    "\n",
    "# Example workflow\n",
    "try:\n",
    "    # Send the start command\n",
    "    send_start()\n",
    "\n",
    "    # Wait for a while (simulate running time)\n",
    "    run_time = 30  # Run time in seconds\n",
    "    start_time = time.time()\n",
    "    \n",
    "    while time.time() - start_time < run_time:\n",
    "        # Here you could read from Arduino or perform other tasks\n",
    "        if ser.in_waiting > 0:\n",
    "            line = ser.readline().decode('utf-8').strip()\n",
    "            print(f\"Arduino: {line}\")\n",
    "        \n",
    "        time.sleep(0.1)  # Add a small delay to avoid overloading the CPU\n",
    "\n",
    "    # Send the stop command\n",
    "    send_stop()\n",
    "\n",
    "except KeyboardInterrupt:\n",
    "    # Ensure the stop command is sent if the script is interrupted\n",
    "    send_stop()\n",
    "\n",
    "finally:\n",
    "    # Close the serial connection\n",
    "    ser.close()\n",
    "    print(\"Serial connection closed.\")\n"
   ]
  }
 ],
 "metadata": {
  "kernelspec": {
   "display_name": "Python (arduino_interface)",
   "language": "python",
   "name": "arduino_interface"
  },
  "language_info": {
   "codemirror_mode": {
    "name": "ipython",
    "version": 3
   },
   "file_extension": ".py",
   "mimetype": "text/x-python",
   "name": "python",
   "nbconvert_exporter": "python",
   "pygments_lexer": "ipython3",
   "version": "3.12.3"
  }
 },
 "nbformat": 4,
 "nbformat_minor": 5
}
