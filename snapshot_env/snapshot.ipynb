{
 "cells": [
  {
   "cell_type": "code",
   "execution_count": 1,
   "metadata": {},
   "outputs": [],
   "source": [
    "import numpy as np\n",
    "import cv2\n",
    "import pyautogui\n",
    "from PIL import Image"
   ]
  },
  {
   "cell_type": "code",
   "execution_count": 3,
   "metadata": {},
   "outputs": [],
   "source": [
    "# take screenshot using pyautogui\n",
    "image = pyautogui.screenshot()\n",
    "# this will return the image as PIL and\n",
    "# store in `image`\n",
    "\n",
    "# if you need to save the image as a\n",
    "# file, pass the path of the file as\n",
    "# an argument like this\n",
    "image1 = pyautogui.screenshot(region=(0,0, 300, 400))\n",
    "image1.save(r\"C:\\Users\\emma_odom\\Dropbox (MIT)\\Emma\\Behavior_Code_Emma\\snapshot_env\\image.png\")\n"
   ]
  },
  {
   "cell_type": "code",
   "execution_count": 4,
   "metadata": {},
   "outputs": [],
   "source": [
    "# Find the location of the title on the screen\n",
    "titleLocation = pyautogui.locateOnScreen('title2.PNG')"
   ]
  },
  {
   "cell_type": "code",
   "execution_count": 11,
   "metadata": {},
   "outputs": [],
   "source": [
    "image1 = pyautogui.screenshot(region=(int(titleLocation[0])-100,int(titleLocation[1])+60, 395, 390))\n",
    "path =r\"C:\\Users\\emma_odom\\Dropbox (MIT)\\Emma\\Behavior_Code_Emma\\snapshot_env\\image.png\"\n",
    "image1.save(path)\n"
   ]
  },
  {
   "cell_type": "code",
   "execution_count": 7,
   "metadata": {},
   "outputs": [
    {
     "data": {
      "text/plain": [
       "(390, 395, 3)"
      ]
     },
     "execution_count": 7,
     "metadata": {},
     "output_type": "execute_result"
    }
   ],
   "source": [
    "type(image1)\n",
    "np_img = np.array(image1)\n",
    "np_img.shape"
   ]
  },
  {
   "cell_type": "code",
   "execution_count": 19,
   "metadata": {},
   "outputs": [],
   "source": [
    "\n",
    "# Display the captured frame\n",
    "cv2.imshow('Ema', np_img)\n",
    "\n",
    "# waits for user to press any key\n",
    "# (this is necessary to avoid Python kernel form crashing)\n",
    "cv2.waitKey(0)\n",
    "\n",
    "# closing all open windows\n",
    "cv2.destroyAllWindows()"
   ]
  },
  {
   "cell_type": "code",
   "execution_count": 5,
   "metadata": {},
   "outputs": [],
   "source": [
    "live=True\n",
    "# Find the location of the title on the screen\n",
    "titleLocation = pyautogui.locateOnScreen('title2.PNG')\n",
    "while live:\n",
    "    image1 = pyautogui.screenshot(region=(int(titleLocation[0])-100,int(titleLocation[1])+60, 395, 390))\n",
    "    np_img = np.array(image1)\n",
    "    np_img.shape\n",
    "\n",
    "    # Display the captured frame\n",
    "    cv2.imshow('Ema', np_img)\n",
    "\n",
    "\n",
    "    # Press 'q' to exit the loop\n",
    "    if cv2.waitKey(1) == ord('q'):\n",
    "        live = False\n",
    "        break\n",
    "\n",
    "# waits for user to press any key\n",
    "# (this is necessary to avoid Python kernel form crashing)\n",
    "cv2.waitKey(0)\n",
    "\n",
    "# closing all open windows\n",
    "cv2.destroyAllWindows()"
   ]
  },
  {
   "cell_type": "code",
   "execution_count": null,
   "metadata": {},
   "outputs": [],
   "source": []
  }
 ],
 "metadata": {
  "kernelspec": {
   "display_name": "snapshot",
   "language": "python",
   "name": "python3"
  },
  "language_info": {
   "codemirror_mode": {
    "name": "ipython",
    "version": 3
   },
   "file_extension": ".py",
   "mimetype": "text/x-python",
   "name": "python",
   "nbconvert_exporter": "python",
   "pygments_lexer": "ipython3",
   "version": "3.12.5"
  }
 },
 "nbformat": 4,
 "nbformat_minor": 2
}
